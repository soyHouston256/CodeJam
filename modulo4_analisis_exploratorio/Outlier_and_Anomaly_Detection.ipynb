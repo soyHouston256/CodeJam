{
  "nbformat": 4,
  "nbformat_minor": 0,
  "metadata": {
    "colab": {
      "provenance": [],
      "include_colab_link": true
    },
    "kernelspec": {
      "name": "python3",
      "display_name": "Python 3"
    },
    "language_info": {
      "name": "python"
    }
  },
  "cells": [
    {
      "cell_type": "markdown",
      "metadata": {
        "id": "view-in-github",
        "colab_type": "text"
      },
      "source": [
        "<a href=\"https://colab.research.google.com/github/soyHouston256/CodeJam/blob/master/modulo4_analisis_exploratorio/Outlier_and_Anomaly_Detection.ipynb\" target=\"_parent\"><img src=\"https://colab.research.google.com/assets/colab-badge.svg\" alt=\"Open In Colab\"/></a>"
      ]
    },
    {
      "cell_type": "markdown",
      "source": [
        "<img src=\"https://posgrado.utec.edu.pe/sites/default/files/2023-08/Testimonial-home-2.jpg\" alt=\"HTML5 Icon\" width=\"900\" height=\"250\" >"
      ],
      "metadata": {
        "id": "BFn7vKQXvJ9v"
      }
    },
    {
      "cell_type": "markdown",
      "source": [
        "#**Laboratorio: Detección de Outliers en Datos de Taxis de NYC**"
      ],
      "metadata": {
        "id": "xTinnW4BvcQs"
      }
    },
    {
      "cell_type": "markdown",
      "source": [
        "---"
      ],
      "metadata": {
        "id": "8vVmiBtQvhva"
      }
    },
    {
      "cell_type": "markdown",
      "source": [
        "##**Objetivo general**\n",
        "\n",
        "Aplicar técnicas de detección de outliers sobre datos reales de viajes en taxi en la ciudad de Nueva York, analizando su fundamento teórico, forma de implementación y capacidad para identificar observaciones atípicas en un entorno multivariado."
      ],
      "metadata": {
        "id": "Cl3XSikpvjzX"
      }
    },
    {
      "cell_type": "markdown",
      "source": [
        "## **1. Introducción**\n",
        "\n",
        "Los valores atípicos (**outliers**) son observaciones que se alejan significativamente del patrón general de los datos. Su detección es crucial en tareas de análisis exploratorio, limpieza, modelado y monitoreo.\n",
        "\n",
        "Este laboratorio aborda técnicas univariadas y multivariadas para detectar outliers, usando datos simulados basados en el NYC Taxi Dataset.\n",
        "\n",
        "Se aplicarán cinco métodos:\n",
        "\n",
        "\n",
        "- Z-score\n",
        "\n",
        "- IQR (boxplot)\n",
        "\n",
        "- DBSCAN\n",
        "\n",
        "- LOF (Local Outlier Factor)\n",
        "\n",
        "- Isolation Forest"
      ],
      "metadata": {
        "id": "9DTe7kYcvoHO"
      }
    },
    {
      "cell_type": "markdown",
      "source": [
        "### **Descargar Data**"
      ],
      "metadata": {
        "id": "lmQysRdKxI5x"
      }
    },
    {
      "cell_type": "markdown",
      "source": [
        "Este conjunto de datos contiene información detallada sobre millones de viajes en taxi realizados en la ciudad de Nueva York durante el año 2018.\n",
        "\n",
        "Es un dataset clásico para análisis de movilidad, detección de anomalías, pricing dinámico y aprendizaje automático.\n",
        "\n",
        "Cada fila representa un viaje individual y las columnas incluyen:\n",
        "\n",
        "  > **pickup_datetime y dropoff_datetime**: fechas y horas de inicio y fin del viaje.\n",
        "  >\n",
        "  > **trip_distance**: distancia total recorrida (en millas).\n",
        "  >\n",
        "  > **fare_amount**: monto base de la tarifa del viaje.\n",
        "  >\n",
        "  > **tip_amount**: monto de la propina.\n",
        "  >\n",
        "  > **payment_type**: tipo de pago (efectivo, tarjeta, etc.).\n",
        "  >\n",
        "  > **passenger_coun**: número de pasajeros.\n",
        "  >\n",
        "  > **pickup_longitude, pickup_latitude, dropoff_longitude, dropoff_latitude**: coordenadas geográficas del viaje.\n",
        "\n",
        "\n",
        "**Fuente:** https://www.kaggle.com/datasets/neilclack/nyc-taxi-trip-data-google-public-data?select=original_cleaned_nyc_taxi_data_2018.csv"
      ],
      "metadata": {
        "id": "P1GRKAPM1j2T"
      }
    },
    {
      "cell_type": "code",
      "source": [
        "from google.colab import files\n",
        "files.upload()  # Sube kaggle.json\n"
      ],
      "metadata": {
        "colab": {
          "base_uri": "https://localhost:8080/",
          "height": 87
        },
        "id": "BtAtpDZNxIa0",
        "outputId": "986f2c2d-230f-4bd1-d07d-b0bfc8dc9783"
      },
      "execution_count": 1,
      "outputs": [
        {
          "output_type": "display_data",
          "data": {
            "text/plain": [
              "<IPython.core.display.HTML object>"
            ],
            "text/html": [
              "\n",
              "     <input type=\"file\" id=\"files-6e737740-67fc-4511-b94c-4ffb2f6b9b3c\" name=\"files[]\" multiple disabled\n",
              "        style=\"border:none\" />\n",
              "     <output id=\"result-6e737740-67fc-4511-b94c-4ffb2f6b9b3c\">\n",
              "      Upload widget is only available when the cell has been executed in the\n",
              "      current browser session. Please rerun this cell to enable.\n",
              "      </output>\n",
              "      <script>// Copyright 2017 Google LLC\n",
              "//\n",
              "// Licensed under the Apache License, Version 2.0 (the \"License\");\n",
              "// you may not use this file except in compliance with the License.\n",
              "// You may obtain a copy of the License at\n",
              "//\n",
              "//      http://www.apache.org/licenses/LICENSE-2.0\n",
              "//\n",
              "// Unless required by applicable law or agreed to in writing, software\n",
              "// distributed under the License is distributed on an \"AS IS\" BASIS,\n",
              "// WITHOUT WARRANTIES OR CONDITIONS OF ANY KIND, either express or implied.\n",
              "// See the License for the specific language governing permissions and\n",
              "// limitations under the License.\n",
              "\n",
              "/**\n",
              " * @fileoverview Helpers for google.colab Python module.\n",
              " */\n",
              "(function(scope) {\n",
              "function span(text, styleAttributes = {}) {\n",
              "  const element = document.createElement('span');\n",
              "  element.textContent = text;\n",
              "  for (const key of Object.keys(styleAttributes)) {\n",
              "    element.style[key] = styleAttributes[key];\n",
              "  }\n",
              "  return element;\n",
              "}\n",
              "\n",
              "// Max number of bytes which will be uploaded at a time.\n",
              "const MAX_PAYLOAD_SIZE = 100 * 1024;\n",
              "\n",
              "function _uploadFiles(inputId, outputId) {\n",
              "  const steps = uploadFilesStep(inputId, outputId);\n",
              "  const outputElement = document.getElementById(outputId);\n",
              "  // Cache steps on the outputElement to make it available for the next call\n",
              "  // to uploadFilesContinue from Python.\n",
              "  outputElement.steps = steps;\n",
              "\n",
              "  return _uploadFilesContinue(outputId);\n",
              "}\n",
              "\n",
              "// This is roughly an async generator (not supported in the browser yet),\n",
              "// where there are multiple asynchronous steps and the Python side is going\n",
              "// to poll for completion of each step.\n",
              "// This uses a Promise to block the python side on completion of each step,\n",
              "// then passes the result of the previous step as the input to the next step.\n",
              "function _uploadFilesContinue(outputId) {\n",
              "  const outputElement = document.getElementById(outputId);\n",
              "  const steps = outputElement.steps;\n",
              "\n",
              "  const next = steps.next(outputElement.lastPromiseValue);\n",
              "  return Promise.resolve(next.value.promise).then((value) => {\n",
              "    // Cache the last promise value to make it available to the next\n",
              "    // step of the generator.\n",
              "    outputElement.lastPromiseValue = value;\n",
              "    return next.value.response;\n",
              "  });\n",
              "}\n",
              "\n",
              "/**\n",
              " * Generator function which is called between each async step of the upload\n",
              " * process.\n",
              " * @param {string} inputId Element ID of the input file picker element.\n",
              " * @param {string} outputId Element ID of the output display.\n",
              " * @return {!Iterable<!Object>} Iterable of next steps.\n",
              " */\n",
              "function* uploadFilesStep(inputId, outputId) {\n",
              "  const inputElement = document.getElementById(inputId);\n",
              "  inputElement.disabled = false;\n",
              "\n",
              "  const outputElement = document.getElementById(outputId);\n",
              "  outputElement.innerHTML = '';\n",
              "\n",
              "  const pickedPromise = new Promise((resolve) => {\n",
              "    inputElement.addEventListener('change', (e) => {\n",
              "      resolve(e.target.files);\n",
              "    });\n",
              "  });\n",
              "\n",
              "  const cancel = document.createElement('button');\n",
              "  inputElement.parentElement.appendChild(cancel);\n",
              "  cancel.textContent = 'Cancel upload';\n",
              "  const cancelPromise = new Promise((resolve) => {\n",
              "    cancel.onclick = () => {\n",
              "      resolve(null);\n",
              "    };\n",
              "  });\n",
              "\n",
              "  // Wait for the user to pick the files.\n",
              "  const files = yield {\n",
              "    promise: Promise.race([pickedPromise, cancelPromise]),\n",
              "    response: {\n",
              "      action: 'starting',\n",
              "    }\n",
              "  };\n",
              "\n",
              "  cancel.remove();\n",
              "\n",
              "  // Disable the input element since further picks are not allowed.\n",
              "  inputElement.disabled = true;\n",
              "\n",
              "  if (!files) {\n",
              "    return {\n",
              "      response: {\n",
              "        action: 'complete',\n",
              "      }\n",
              "    };\n",
              "  }\n",
              "\n",
              "  for (const file of files) {\n",
              "    const li = document.createElement('li');\n",
              "    li.append(span(file.name, {fontWeight: 'bold'}));\n",
              "    li.append(span(\n",
              "        `(${file.type || 'n/a'}) - ${file.size} bytes, ` +\n",
              "        `last modified: ${\n",
              "            file.lastModifiedDate ? file.lastModifiedDate.toLocaleDateString() :\n",
              "                                    'n/a'} - `));\n",
              "    const percent = span('0% done');\n",
              "    li.appendChild(percent);\n",
              "\n",
              "    outputElement.appendChild(li);\n",
              "\n",
              "    const fileDataPromise = new Promise((resolve) => {\n",
              "      const reader = new FileReader();\n",
              "      reader.onload = (e) => {\n",
              "        resolve(e.target.result);\n",
              "      };\n",
              "      reader.readAsArrayBuffer(file);\n",
              "    });\n",
              "    // Wait for the data to be ready.\n",
              "    let fileData = yield {\n",
              "      promise: fileDataPromise,\n",
              "      response: {\n",
              "        action: 'continue',\n",
              "      }\n",
              "    };\n",
              "\n",
              "    // Use a chunked sending to avoid message size limits. See b/62115660.\n",
              "    let position = 0;\n",
              "    do {\n",
              "      const length = Math.min(fileData.byteLength - position, MAX_PAYLOAD_SIZE);\n",
              "      const chunk = new Uint8Array(fileData, position, length);\n",
              "      position += length;\n",
              "\n",
              "      const base64 = btoa(String.fromCharCode.apply(null, chunk));\n",
              "      yield {\n",
              "        response: {\n",
              "          action: 'append',\n",
              "          file: file.name,\n",
              "          data: base64,\n",
              "        },\n",
              "      };\n",
              "\n",
              "      let percentDone = fileData.byteLength === 0 ?\n",
              "          100 :\n",
              "          Math.round((position / fileData.byteLength) * 100);\n",
              "      percent.textContent = `${percentDone}% done`;\n",
              "\n",
              "    } while (position < fileData.byteLength);\n",
              "  }\n",
              "\n",
              "  // All done.\n",
              "  yield {\n",
              "    response: {\n",
              "      action: 'complete',\n",
              "    }\n",
              "  };\n",
              "}\n",
              "\n",
              "scope.google = scope.google || {};\n",
              "scope.google.colab = scope.google.colab || {};\n",
              "scope.google.colab._files = {\n",
              "  _uploadFiles,\n",
              "  _uploadFilesContinue,\n",
              "};\n",
              "})(self);\n",
              "</script> "
            ]
          },
          "metadata": {}
        },
        {
          "output_type": "stream",
          "name": "stdout",
          "text": [
            "Saving kaggle.json to kaggle.json\n"
          ]
        },
        {
          "output_type": "execute_result",
          "data": {
            "text/plain": [
              "{'kaggle.json': b'{\"username\":\"soyhouston\",\"key\":\"3e71bf3d6ba0e5bdfa50fc25686d4f5c\"}'}"
            ]
          },
          "metadata": {},
          "execution_count": 1
        }
      ]
    },
    {
      "cell_type": "code",
      "source": [
        "import os\n",
        "import zipfile\n",
        "\n",
        "# Crear la carpeta .kaggle\n",
        "os.makedirs(\"/root/.kaggle\", exist_ok=True)\n",
        "\n",
        "# Mover el archivo json a la carpeta de configuración\n",
        "!mv kaggle.json /root/.kaggle/kaggle.json\n",
        "os.chmod(\"/root/.kaggle/kaggle.json\", 600)\n"
      ],
      "metadata": {
        "id": "TwJHUOXWw4do"
      },
      "execution_count": 2,
      "outputs": []
    },
    {
      "cell_type": "code",
      "source": [
        "%%capture\n",
        "!pip3 install -q kagglehub"
      ],
      "metadata": {
        "id": "xUPataRn0k1X"
      },
      "execution_count": 3,
      "outputs": []
    },
    {
      "cell_type": "code",
      "source": [
        "\n",
        "import kagglehub\n",
        "\n",
        "# Descargar dataset\n",
        "path = kagglehub.dataset_download(\"neilclack/nyc-taxi-trip-data-google-public-data\")\n",
        "\n",
        "print(\"Ruta local de descarga:\", path)"
      ],
      "metadata": {
        "colab": {
          "base_uri": "https://localhost:8080/"
        },
        "id": "pYgj4znp0j6w",
        "outputId": "4bf568e1-62b5-46d5-e7ba-eae3fd71220c"
      },
      "execution_count": 4,
      "outputs": [
        {
          "output_type": "stream",
          "name": "stdout",
          "text": [
            "Ruta local de descarga: /kaggle/input/nyc-taxi-trip-data-google-public-data\n"
          ]
        }
      ]
    },
    {
      "cell_type": "code",
      "source": [
        "import os\n",
        "\n",
        "# Ver archivos descargados\n",
        "os.listdir(path)\n"
      ],
      "metadata": {
        "colab": {
          "base_uri": "https://localhost:8080/"
        },
        "id": "yzVmqBo30qch",
        "outputId": "b49329da-a84e-433c-e57e-c41d473ce394"
      },
      "execution_count": 5,
      "outputs": [
        {
          "output_type": "execute_result",
          "data": {
            "text/plain": [
              "['.nfs000000003277b8f000000515',\n",
              " 'original_cleaned_nyc_taxi_data_2018.csv',\n",
              " 'taxi_trip_data.csv',\n",
              " 'taxi_zone_geo.csv']"
            ]
          },
          "metadata": {},
          "execution_count": 5
        }
      ]
    },
    {
      "cell_type": "code",
      "source": [
        "import pandas as pd\n",
        "\n",
        "path = \"/kaggle/input/nyc-taxi-trip-data-google-public-data/original_cleaned_nyc_taxi_data_2018.csv\"\n",
        "\n",
        "df = pd.read_csv(path).sample(n=20_000, random_state=42)\n",
        "df.head()\n"
      ],
      "metadata": {
        "colab": {
          "base_uri": "https://localhost:8080/",
          "height": 268
        },
        "id": "wci8jzw_1P61",
        "outputId": "2338da2f-9d5a-4db9-8be4-9fa65e2f5273"
      },
      "execution_count": 11,
      "outputs": [
        {
          "output_type": "execute_result",
          "data": {
            "text/plain": [
              "         Unnamed: 0  trip_distance  rate_code store_and_fwd_flag  \\\n",
              "3889775     4144169           7.40          1                  Y   \n",
              "6908713     7472631           9.00          1                  N   \n",
              "4149018     4425107           7.80          1                  N   \n",
              "6816202     7366751          11.78          1                  N   \n",
              "6140876     6614733           8.43          1                  N   \n",
              "\n",
              "         payment_type  fare_amount  extra  mta_tax  tip_amount  tolls_amount  \\\n",
              "3889775             2         28.0    0.5      0.5        0.00           0.0   \n",
              "6908713             1         27.5    0.5      0.5        5.75           0.0   \n",
              "4149018             1         23.5    0.5      0.5        3.72           0.0   \n",
              "6816202             1         33.0    0.5      0.5        6.86           0.0   \n",
              "6140876             1         24.5    0.0      0.5        2.00           0.0   \n",
              "\n",
              "         ...  total_amount  pickup_location_id  dropoff_location_id  year  \\\n",
              "3889775  ...         29.30                  48                   82  2018   \n",
              "6908713  ...         34.55                 261                  202  2018   \n",
              "4149018  ...         28.52                 186                  116  2018   \n",
              "6816202  ...         41.16                 138                   64  2018   \n",
              "6140876  ...         27.30                  13                  263  2018   \n",
              "\n",
              "         month  day  day_of_week  hour_of_day  trip_duration  \\\n",
              "3889775      3   27            1            0         2876.0   \n",
              "6908713     12    3            0           22         2433.0   \n",
              "4149018     10   17            2            3         3469.0   \n",
              "6816202      5    4            4           23         1549.0   \n",
              "6140876     11   12            0           19         2702.0   \n",
              "\n",
              "         calculated_total_amount  \n",
              "3889775                    35.16  \n",
              "6908713                    47.47  \n",
              "4149018                    31.60  \n",
              "6816202                    30.35  \n",
              "6140876                    27.95  \n",
              "\n",
              "[5 rows x 21 columns]"
            ],
            "text/html": [
              "\n",
              "  <div id=\"df-384ba3f2-7b85-4b3d-b036-114d0a6adb4e\" class=\"colab-df-container\">\n",
              "    <div>\n",
              "<style scoped>\n",
              "    .dataframe tbody tr th:only-of-type {\n",
              "        vertical-align: middle;\n",
              "    }\n",
              "\n",
              "    .dataframe tbody tr th {\n",
              "        vertical-align: top;\n",
              "    }\n",
              "\n",
              "    .dataframe thead th {\n",
              "        text-align: right;\n",
              "    }\n",
              "</style>\n",
              "<table border=\"1\" class=\"dataframe\">\n",
              "  <thead>\n",
              "    <tr style=\"text-align: right;\">\n",
              "      <th></th>\n",
              "      <th>Unnamed: 0</th>\n",
              "      <th>trip_distance</th>\n",
              "      <th>rate_code</th>\n",
              "      <th>store_and_fwd_flag</th>\n",
              "      <th>payment_type</th>\n",
              "      <th>fare_amount</th>\n",
              "      <th>extra</th>\n",
              "      <th>mta_tax</th>\n",
              "      <th>tip_amount</th>\n",
              "      <th>tolls_amount</th>\n",
              "      <th>...</th>\n",
              "      <th>total_amount</th>\n",
              "      <th>pickup_location_id</th>\n",
              "      <th>dropoff_location_id</th>\n",
              "      <th>year</th>\n",
              "      <th>month</th>\n",
              "      <th>day</th>\n",
              "      <th>day_of_week</th>\n",
              "      <th>hour_of_day</th>\n",
              "      <th>trip_duration</th>\n",
              "      <th>calculated_total_amount</th>\n",
              "    </tr>\n",
              "  </thead>\n",
              "  <tbody>\n",
              "    <tr>\n",
              "      <th>3889775</th>\n",
              "      <td>4144169</td>\n",
              "      <td>7.40</td>\n",
              "      <td>1</td>\n",
              "      <td>Y</td>\n",
              "      <td>2</td>\n",
              "      <td>28.0</td>\n",
              "      <td>0.5</td>\n",
              "      <td>0.5</td>\n",
              "      <td>0.00</td>\n",
              "      <td>0.0</td>\n",
              "      <td>...</td>\n",
              "      <td>29.30</td>\n",
              "      <td>48</td>\n",
              "      <td>82</td>\n",
              "      <td>2018</td>\n",
              "      <td>3</td>\n",
              "      <td>27</td>\n",
              "      <td>1</td>\n",
              "      <td>0</td>\n",
              "      <td>2876.0</td>\n",
              "      <td>35.16</td>\n",
              "    </tr>\n",
              "    <tr>\n",
              "      <th>6908713</th>\n",
              "      <td>7472631</td>\n",
              "      <td>9.00</td>\n",
              "      <td>1</td>\n",
              "      <td>N</td>\n",
              "      <td>1</td>\n",
              "      <td>27.5</td>\n",
              "      <td>0.5</td>\n",
              "      <td>0.5</td>\n",
              "      <td>5.75</td>\n",
              "      <td>0.0</td>\n",
              "      <td>...</td>\n",
              "      <td>34.55</td>\n",
              "      <td>261</td>\n",
              "      <td>202</td>\n",
              "      <td>2018</td>\n",
              "      <td>12</td>\n",
              "      <td>3</td>\n",
              "      <td>0</td>\n",
              "      <td>22</td>\n",
              "      <td>2433.0</td>\n",
              "      <td>47.47</td>\n",
              "    </tr>\n",
              "    <tr>\n",
              "      <th>4149018</th>\n",
              "      <td>4425107</td>\n",
              "      <td>7.80</td>\n",
              "      <td>1</td>\n",
              "      <td>N</td>\n",
              "      <td>1</td>\n",
              "      <td>23.5</td>\n",
              "      <td>0.5</td>\n",
              "      <td>0.5</td>\n",
              "      <td>3.72</td>\n",
              "      <td>0.0</td>\n",
              "      <td>...</td>\n",
              "      <td>28.52</td>\n",
              "      <td>186</td>\n",
              "      <td>116</td>\n",
              "      <td>2018</td>\n",
              "      <td>10</td>\n",
              "      <td>17</td>\n",
              "      <td>2</td>\n",
              "      <td>3</td>\n",
              "      <td>3469.0</td>\n",
              "      <td>31.60</td>\n",
              "    </tr>\n",
              "    <tr>\n",
              "      <th>6816202</th>\n",
              "      <td>7366751</td>\n",
              "      <td>11.78</td>\n",
              "      <td>1</td>\n",
              "      <td>N</td>\n",
              "      <td>1</td>\n",
              "      <td>33.0</td>\n",
              "      <td>0.5</td>\n",
              "      <td>0.5</td>\n",
              "      <td>6.86</td>\n",
              "      <td>0.0</td>\n",
              "      <td>...</td>\n",
              "      <td>41.16</td>\n",
              "      <td>138</td>\n",
              "      <td>64</td>\n",
              "      <td>2018</td>\n",
              "      <td>5</td>\n",
              "      <td>4</td>\n",
              "      <td>4</td>\n",
              "      <td>23</td>\n",
              "      <td>1549.0</td>\n",
              "      <td>30.35</td>\n",
              "    </tr>\n",
              "    <tr>\n",
              "      <th>6140876</th>\n",
              "      <td>6614733</td>\n",
              "      <td>8.43</td>\n",
              "      <td>1</td>\n",
              "      <td>N</td>\n",
              "      <td>1</td>\n",
              "      <td>24.5</td>\n",
              "      <td>0.0</td>\n",
              "      <td>0.5</td>\n",
              "      <td>2.00</td>\n",
              "      <td>0.0</td>\n",
              "      <td>...</td>\n",
              "      <td>27.30</td>\n",
              "      <td>13</td>\n",
              "      <td>263</td>\n",
              "      <td>2018</td>\n",
              "      <td>11</td>\n",
              "      <td>12</td>\n",
              "      <td>0</td>\n",
              "      <td>19</td>\n",
              "      <td>2702.0</td>\n",
              "      <td>27.95</td>\n",
              "    </tr>\n",
              "  </tbody>\n",
              "</table>\n",
              "<p>5 rows × 21 columns</p>\n",
              "</div>\n",
              "    <div class=\"colab-df-buttons\">\n",
              "\n",
              "  <div class=\"colab-df-container\">\n",
              "    <button class=\"colab-df-convert\" onclick=\"convertToInteractive('df-384ba3f2-7b85-4b3d-b036-114d0a6adb4e')\"\n",
              "            title=\"Convert this dataframe to an interactive table.\"\n",
              "            style=\"display:none;\">\n",
              "\n",
              "  <svg xmlns=\"http://www.w3.org/2000/svg\" height=\"24px\" viewBox=\"0 -960 960 960\">\n",
              "    <path d=\"M120-120v-720h720v720H120Zm60-500h600v-160H180v160Zm220 220h160v-160H400v160Zm0 220h160v-160H400v160ZM180-400h160v-160H180v160Zm440 0h160v-160H620v160ZM180-180h160v-160H180v160Zm440 0h160v-160H620v160Z\"/>\n",
              "  </svg>\n",
              "    </button>\n",
              "\n",
              "  <style>\n",
              "    .colab-df-container {\n",
              "      display:flex;\n",
              "      gap: 12px;\n",
              "    }\n",
              "\n",
              "    .colab-df-convert {\n",
              "      background-color: #E8F0FE;\n",
              "      border: none;\n",
              "      border-radius: 50%;\n",
              "      cursor: pointer;\n",
              "      display: none;\n",
              "      fill: #1967D2;\n",
              "      height: 32px;\n",
              "      padding: 0 0 0 0;\n",
              "      width: 32px;\n",
              "    }\n",
              "\n",
              "    .colab-df-convert:hover {\n",
              "      background-color: #E2EBFA;\n",
              "      box-shadow: 0px 1px 2px rgba(60, 64, 67, 0.3), 0px 1px 3px 1px rgba(60, 64, 67, 0.15);\n",
              "      fill: #174EA6;\n",
              "    }\n",
              "\n",
              "    .colab-df-buttons div {\n",
              "      margin-bottom: 4px;\n",
              "    }\n",
              "\n",
              "    [theme=dark] .colab-df-convert {\n",
              "      background-color: #3B4455;\n",
              "      fill: #D2E3FC;\n",
              "    }\n",
              "\n",
              "    [theme=dark] .colab-df-convert:hover {\n",
              "      background-color: #434B5C;\n",
              "      box-shadow: 0px 1px 3px 1px rgba(0, 0, 0, 0.15);\n",
              "      filter: drop-shadow(0px 1px 2px rgba(0, 0, 0, 0.3));\n",
              "      fill: #FFFFFF;\n",
              "    }\n",
              "  </style>\n",
              "\n",
              "    <script>\n",
              "      const buttonEl =\n",
              "        document.querySelector('#df-384ba3f2-7b85-4b3d-b036-114d0a6adb4e button.colab-df-convert');\n",
              "      buttonEl.style.display =\n",
              "        google.colab.kernel.accessAllowed ? 'block' : 'none';\n",
              "\n",
              "      async function convertToInteractive(key) {\n",
              "        const element = document.querySelector('#df-384ba3f2-7b85-4b3d-b036-114d0a6adb4e');\n",
              "        const dataTable =\n",
              "          await google.colab.kernel.invokeFunction('convertToInteractive',\n",
              "                                                    [key], {});\n",
              "        if (!dataTable) return;\n",
              "\n",
              "        const docLinkHtml = 'Like what you see? Visit the ' +\n",
              "          '<a target=\"_blank\" href=https://colab.research.google.com/notebooks/data_table.ipynb>data table notebook</a>'\n",
              "          + ' to learn more about interactive tables.';\n",
              "        element.innerHTML = '';\n",
              "        dataTable['output_type'] = 'display_data';\n",
              "        await google.colab.output.renderOutput(dataTable, element);\n",
              "        const docLink = document.createElement('div');\n",
              "        docLink.innerHTML = docLinkHtml;\n",
              "        element.appendChild(docLink);\n",
              "      }\n",
              "    </script>\n",
              "  </div>\n",
              "\n",
              "\n",
              "    <div id=\"df-63f4752e-88cd-4507-9883-9a1a3aacd2fa\">\n",
              "      <button class=\"colab-df-quickchart\" onclick=\"quickchart('df-63f4752e-88cd-4507-9883-9a1a3aacd2fa')\"\n",
              "                title=\"Suggest charts\"\n",
              "                style=\"display:none;\">\n",
              "\n",
              "<svg xmlns=\"http://www.w3.org/2000/svg\" height=\"24px\"viewBox=\"0 0 24 24\"\n",
              "     width=\"24px\">\n",
              "    <g>\n",
              "        <path d=\"M19 3H5c-1.1 0-2 .9-2 2v14c0 1.1.9 2 2 2h14c1.1 0 2-.9 2-2V5c0-1.1-.9-2-2-2zM9 17H7v-7h2v7zm4 0h-2V7h2v10zm4 0h-2v-4h2v4z\"/>\n",
              "    </g>\n",
              "</svg>\n",
              "      </button>\n",
              "\n",
              "<style>\n",
              "  .colab-df-quickchart {\n",
              "      --bg-color: #E8F0FE;\n",
              "      --fill-color: #1967D2;\n",
              "      --hover-bg-color: #E2EBFA;\n",
              "      --hover-fill-color: #174EA6;\n",
              "      --disabled-fill-color: #AAA;\n",
              "      --disabled-bg-color: #DDD;\n",
              "  }\n",
              "\n",
              "  [theme=dark] .colab-df-quickchart {\n",
              "      --bg-color: #3B4455;\n",
              "      --fill-color: #D2E3FC;\n",
              "      --hover-bg-color: #434B5C;\n",
              "      --hover-fill-color: #FFFFFF;\n",
              "      --disabled-bg-color: #3B4455;\n",
              "      --disabled-fill-color: #666;\n",
              "  }\n",
              "\n",
              "  .colab-df-quickchart {\n",
              "    background-color: var(--bg-color);\n",
              "    border: none;\n",
              "    border-radius: 50%;\n",
              "    cursor: pointer;\n",
              "    display: none;\n",
              "    fill: var(--fill-color);\n",
              "    height: 32px;\n",
              "    padding: 0;\n",
              "    width: 32px;\n",
              "  }\n",
              "\n",
              "  .colab-df-quickchart:hover {\n",
              "    background-color: var(--hover-bg-color);\n",
              "    box-shadow: 0 1px 2px rgba(60, 64, 67, 0.3), 0 1px 3px 1px rgba(60, 64, 67, 0.15);\n",
              "    fill: var(--button-hover-fill-color);\n",
              "  }\n",
              "\n",
              "  .colab-df-quickchart-complete:disabled,\n",
              "  .colab-df-quickchart-complete:disabled:hover {\n",
              "    background-color: var(--disabled-bg-color);\n",
              "    fill: var(--disabled-fill-color);\n",
              "    box-shadow: none;\n",
              "  }\n",
              "\n",
              "  .colab-df-spinner {\n",
              "    border: 2px solid var(--fill-color);\n",
              "    border-color: transparent;\n",
              "    border-bottom-color: var(--fill-color);\n",
              "    animation:\n",
              "      spin 1s steps(1) infinite;\n",
              "  }\n",
              "\n",
              "  @keyframes spin {\n",
              "    0% {\n",
              "      border-color: transparent;\n",
              "      border-bottom-color: var(--fill-color);\n",
              "      border-left-color: var(--fill-color);\n",
              "    }\n",
              "    20% {\n",
              "      border-color: transparent;\n",
              "      border-left-color: var(--fill-color);\n",
              "      border-top-color: var(--fill-color);\n",
              "    }\n",
              "    30% {\n",
              "      border-color: transparent;\n",
              "      border-left-color: var(--fill-color);\n",
              "      border-top-color: var(--fill-color);\n",
              "      border-right-color: var(--fill-color);\n",
              "    }\n",
              "    40% {\n",
              "      border-color: transparent;\n",
              "      border-right-color: var(--fill-color);\n",
              "      border-top-color: var(--fill-color);\n",
              "    }\n",
              "    60% {\n",
              "      border-color: transparent;\n",
              "      border-right-color: var(--fill-color);\n",
              "    }\n",
              "    80% {\n",
              "      border-color: transparent;\n",
              "      border-right-color: var(--fill-color);\n",
              "      border-bottom-color: var(--fill-color);\n",
              "    }\n",
              "    90% {\n",
              "      border-color: transparent;\n",
              "      border-bottom-color: var(--fill-color);\n",
              "    }\n",
              "  }\n",
              "</style>\n",
              "\n",
              "      <script>\n",
              "        async function quickchart(key) {\n",
              "          const quickchartButtonEl =\n",
              "            document.querySelector('#' + key + ' button');\n",
              "          quickchartButtonEl.disabled = true;  // To prevent multiple clicks.\n",
              "          quickchartButtonEl.classList.add('colab-df-spinner');\n",
              "          try {\n",
              "            const charts = await google.colab.kernel.invokeFunction(\n",
              "                'suggestCharts', [key], {});\n",
              "          } catch (error) {\n",
              "            console.error('Error during call to suggestCharts:', error);\n",
              "          }\n",
              "          quickchartButtonEl.classList.remove('colab-df-spinner');\n",
              "          quickchartButtonEl.classList.add('colab-df-quickchart-complete');\n",
              "        }\n",
              "        (() => {\n",
              "          let quickchartButtonEl =\n",
              "            document.querySelector('#df-63f4752e-88cd-4507-9883-9a1a3aacd2fa button');\n",
              "          quickchartButtonEl.style.display =\n",
              "            google.colab.kernel.accessAllowed ? 'block' : 'none';\n",
              "        })();\n",
              "      </script>\n",
              "    </div>\n",
              "\n",
              "    </div>\n",
              "  </div>\n"
            ],
            "application/vnd.google.colaboratory.intrinsic+json": {
              "type": "dataframe",
              "variable_name": "df"
            }
          },
          "metadata": {},
          "execution_count": 11
        }
      ]
    },
    {
      "cell_type": "code",
      "source": [
        "df.shape"
      ],
      "metadata": {
        "colab": {
          "base_uri": "https://localhost:8080/"
        },
        "id": "7pIoOfSw_Ciq",
        "outputId": "3b4bcce9-58b6-4786-9859-a4d64f3f5d29"
      },
      "execution_count": null,
      "outputs": [
        {
          "output_type": "execute_result",
          "data": {
            "text/plain": [
              "(20000, 21)"
            ]
          },
          "metadata": {},
          "execution_count": 7
        }
      ]
    },
    {
      "cell_type": "markdown",
      "source": [
        "## **2. Z-score**\n",
        "\n",
        "### **2.1 Fundamento teórico**\n",
        "\n",
        "\n",
        "El Z-score indica cuántas desviaciones estándar se encuentra un valor con respecto a la media.\n",
        "\n",
        "Se define como:"
      ],
      "metadata": {
        "id": "JzwocgAiv85S"
      }
    },
    {
      "cell_type": "markdown",
      "source": [
        "\n",
        "<img src=\"https://almablog-media.s3.ap-south-1.amazonaws.com/image015_fd507da112.jpg\" alt=\"HTML5 Icon\" width=\"400\" height=\"200\" >"
      ],
      "metadata": {
        "id": "-TfMpZ45wgKp"
      }
    },
    {
      "cell_type": "markdown",
      "source": [
        "Se considera outlier todo valor con ∣𝑍𝑖∣>3, bajo el supuesto de normalidad."
      ],
      "metadata": {
        "id": "Ul55ONEDwIjH"
      }
    },
    {
      "cell_type": "markdown",
      "source": [
        "## **2.2 Implementación**"
      ],
      "metadata": {
        "id": "Okk0BOQLwzWn"
      }
    },
    {
      "cell_type": "code",
      "execution_count": null,
      "metadata": {
        "id": "vN9GJ9LkvJC1"
      },
      "outputs": [],
      "source": [
        "from scipy.stats import zscore\n",
        "\n",
        "variables = ['fare_amount', 'trip_distance']\n",
        "for var in variables:\n",
        "    df[f\"{var}_z\"] = zscore(df[var])\n",
        "    df[f\"{var}_outlier_z\"] = df[f\"{var}_z\"].abs() > 3\n"
      ]
    },
    {
      "cell_type": "markdown",
      "source": [
        "##**3. IQR (Boxplot)**\n",
        "\n",
        "### **3.1 Fundamento teórico**\n",
        "\n",
        "El rango intercuartílico (IQR) se define como:"
      ],
      "metadata": {
        "id": "fk_Y4qot3Dxe"
      }
    },
    {
      "cell_type": "markdown",
      "source": [
        "IQR=Q3−Q1\n",
        "\n",
        "Donde:\n",
        "\n",
        "> 𝑄1: percentil 25\n",
        ">\n",
        "> 𝑄3: percentil 75\n",
        "\n"
      ],
      "metadata": {
        "id": "oxs4KK3Q4CKh"
      }
    },
    {
      "cell_type": "markdown",
      "source": [
        "\n",
        "\n",
        "\n",
        "<img src=\"https://www.simplypsychology.org/wp-content/uploads/boxplot-1.jpg\" alt=\"HTML5 Icon\" width=\"500\" height=\"200\" >"
      ],
      "metadata": {
        "id": "ZMfO9K8v3Odq"
      }
    },
    {
      "cell_type": "markdown",
      "source": [
        "Se considera outlier todo valor fuera de:\n",
        "\n",
        "(Q1−1.5⋅IQR, Q3+1.5⋅IQR)"
      ],
      "metadata": {
        "id": "_MJMhanT4NtY"
      }
    },
    {
      "cell_type": "markdown",
      "source": [
        "### **3.2 Implementación**"
      ],
      "metadata": {
        "id": "Y4IahrZn4e1r"
      }
    },
    {
      "cell_type": "code",
      "source": [
        "def detect_iqr_outliers(series):\n",
        "    Q1 = series.quantile(0.25)\n",
        "    Q3 = series.quantile(0.75)\n",
        "    IQR = Q3 - Q1\n",
        "    return (series < Q1 - 1.5 * IQR) | (series > Q3 + 1.5 * IQR)\n",
        "\n",
        "df['iqr_outlier_fare'] = detect_iqr_outliers(df['fare_amount'])\n"
      ],
      "metadata": {
        "id": "7CnOYXs34Aq3"
      },
      "execution_count": null,
      "outputs": []
    },
    {
      "cell_type": "markdown",
      "source": [
        "## **4. DBSCAN**\n",
        "\n",
        "### **4.1 Fundamento teórico**\n",
        "\n",
        "**DBSCAN** detecta agrupamientos por densidad. Un punto se considera outlier si tiene menos de min_samples vecinos dentro de un radio eps.\n",
        "\n",
        "\n"
      ],
      "metadata": {
        "id": "rKzn0ZgC3RHZ"
      }
    },
    {
      "cell_type": "markdown",
      "source": [
        "<img src=\"https://mineracaodedados.wordpress.com/wp-content/uploads/2018/02/dbscan.png\" alt=\"HTML5 Icon\" width=\"500\" height=\"300\" >\n",
        "\n"
      ],
      "metadata": {
        "id": "bbvN0tLU5Eq3"
      }
    },
    {
      "cell_type": "markdown",
      "source": [
        "### **4.2 Implementación**"
      ],
      "metadata": {
        "id": "aG06jD8X463d"
      }
    },
    {
      "cell_type": "code",
      "source": [
        "# Reducimos el tamaño con muestreo aleatorio reproducible\n",
        "df_sample = df[['trip_distance', 'fare_amount', 'trip_duration']].dropna()\n",
        "\n",
        "from sklearn.preprocessing import StandardScaler\n",
        "from sklearn.cluster import DBSCAN\n",
        "\n",
        "X_scaled = StandardScaler().fit_transform(df_sample)\n",
        "\n",
        "dbscan = DBSCAN(eps=1.2, min_samples=10)\n",
        "df['dbscan_label'] = dbscan.fit_predict(X_scaled)\n",
        "df['dbscan_outlier'] = df['dbscan_label'] == -1\n"
      ],
      "metadata": {
        "id": "REAxUKPd453z"
      },
      "execution_count": null,
      "outputs": []
    },
    {
      "cell_type": "markdown",
      "source": [
        "## **5. LOF (Local Outlier Factor)**\n",
        "\n",
        "### **5.1 Fundamento teórico**\n",
        "\n",
        "LOF compara la densidad local de un punto con la de sus vecinos. Si un punto tiene baja densidad relativa, se considera un outlier.\n",
        "\n"
      ],
      "metadata": {
        "id": "F-MTcVix7IxD"
      }
    },
    {
      "cell_type": "markdown",
      "source": [
        "\n",
        "<img src=\"https://qu4nt.github.io/sklearn-doc-es/_images/sphx_glr_plot_lof_novelty_detection_001.png\" alt=\"HTML5 Icon\" width=\"450\" height=\"300\" >"
      ],
      "metadata": {
        "id": "qBJoGz407qqX"
      }
    },
    {
      "cell_type": "markdown",
      "source": [
        "### **5.2 Implementación**"
      ],
      "metadata": {
        "id": "6gycgo5z7NN8"
      }
    },
    {
      "cell_type": "code",
      "source": [
        "df_sample = df[['trip_distance', 'fare_amount', 'trip_duration']].dropna()\n",
        "\n",
        "from sklearn.preprocessing import StandardScaler\n",
        "X_scaled = StandardScaler().fit_transform(df_sample)"
      ],
      "metadata": {
        "id": "j_qkS12U8CYJ"
      },
      "execution_count": null,
      "outputs": []
    },
    {
      "cell_type": "code",
      "source": [
        "from sklearn.neighbors import LocalOutlierFactor\n",
        "\n",
        "lof = LocalOutlierFactor(n_neighbors=20, contamination=0.01)\n",
        "lof = lof.fit(X_scaled)\n",
        "\n",
        "df['lof_score'] = lof.fit_predict(X_scaled)\n",
        "df['lof_outlier'] = df['lof_score'] == -1\n"
      ],
      "metadata": {
        "id": "lQ3TjG57775M"
      },
      "execution_count": null,
      "outputs": []
    },
    {
      "cell_type": "markdown",
      "source": [
        "## **6. Isolation Forest**\n",
        "\n",
        "### **6.1 Fundamento teórico**\n",
        "\n",
        "Isolation Forest aísla puntos de forma aleatoria. Los outliers, al estar más aislados, requieren menos divisiones. Eso se traduce en una menor profundidad media del árbol.\n",
        "\n"
      ],
      "metadata": {
        "id": "KQ5b8Ncb80pg"
      }
    },
    {
      "cell_type": "markdown",
      "source": [
        "<img src=\"https://media.licdn.com/dms/image/v2/D4D08AQEiI2518F5qhg/croft-frontend-shrinkToFit1024/croft-frontend-shrinkToFit1024/0/1700684114746?e=2147483647&v=beta&t=w-7UygZ_NYGxA30dvc6GbDc5OSQgq1ASAdSukZ8ENFY\" alt=\"HTML5 Icon\" width=\"500\" height=\"280\" >"
      ],
      "metadata": {
        "id": "lVbpzp6k88Gn"
      }
    },
    {
      "cell_type": "markdown",
      "source": [
        "### **6.2 Implementación**"
      ],
      "metadata": {
        "id": "nKRte__1850j"
      }
    },
    {
      "cell_type": "code",
      "source": [
        "from sklearn.ensemble import IsolationForest\n",
        "\n",
        "iso = IsolationForest(n_estimators=100, contamination=0.01, random_state=42)\n",
        "df['if_outlier'] = iso.fit_predict(X_scaled) == -1\n"
      ],
      "metadata": {
        "id": "l1ZRCghk-fmo"
      },
      "execution_count": null,
      "outputs": []
    },
    {
      "cell_type": "markdown",
      "source": [
        "## **7. Análisis Visual y Cuantitativo**\n",
        "\n",
        "### **7.1 Boxplots para Z-score e IQR**"
      ],
      "metadata": {
        "id": "RPH_vCM5-z8W"
      }
    },
    {
      "cell_type": "code",
      "source": [
        "import matplotlib.pyplot as plt\n",
        "import seaborn as sns\n",
        "\n",
        "fig, axes = plt.subplots(1, 2, figsize=(12, 5))\n",
        "sns.boxplot(data=df, x=\"fare_amount\", ax=axes[0])\n",
        "axes[0].set_title(\"Fare Amount\")\n",
        "sns.boxplot(data=df, x=\"trip_distance\", ax=axes[1])\n",
        "axes[1].set_title(\"Trip Distance\")\n",
        "plt.tight_layout()\n",
        "plt.show()\n"
      ],
      "metadata": {
        "id": "CJrtQegi_LEJ"
      },
      "execution_count": null,
      "outputs": []
    },
    {
      "cell_type": "code",
      "source": [
        "# Excluir outliers antes de graficar\n",
        "df_no_outliers = df[~df['iqr_outlier_fare']]\n",
        "\n",
        "fig, axes = plt.subplots(1, 2, figsize=(12, 5))\n",
        "sns.boxplot(data=df_no_outliers, x=\"fare_amount\", ax=axes[0])\n",
        "axes[0].set_title(\"Fare Amount - sin outliers\")\n",
        "\n",
        "sns.boxplot(data=df_no_outliers, x=\"trip_distance\", ax=axes[1])\n",
        "axes[1].set_title(\"Trip Distance - sin outliers\")\n",
        "\n",
        "plt.tight_layout()\n",
        "plt.show()\n"
      ],
      "metadata": {
        "id": "uUga-kwcAupR"
      },
      "execution_count": null,
      "outputs": []
    },
    {
      "cell_type": "markdown",
      "source": [
        "### **7.2 Conteo de outliers por técnica**"
      ],
      "metadata": {
        "id": "X1FYPQhP_NKD"
      }
    },
    {
      "cell_type": "code",
      "source": [
        "print(\"Z-score Fare:\", df[\"fare_amount_outlier_z\"].sum())\n",
        "print(\"Z-score Distance:\", df[\"trip_distance_outlier_z\"].sum())\n",
        "print(\"IQR Fare:\", df[\"iqr_outlier_fare\"].sum())\n",
        "print(\"DBSCAN:\", df[\"dbscan_outlier\"].sum())\n",
        "print(\"LOF:\", df[\"lof_outlier\"].sum())\n",
        "print(\"Isolation Forest:\", df[\"if_outlier\"].sum())\n"
      ],
      "metadata": {
        "id": "mV2lAHh5_RGl"
      },
      "execution_count": null,
      "outputs": []
    },
    {
      "cell_type": "markdown",
      "source": [
        "## **8. Visualización de técnicas multivariadas**\n"
      ],
      "metadata": {
        "id": "V-Pk9ZGYAQmj"
      }
    },
    {
      "cell_type": "markdown",
      "source": [
        "### **8.1 DBSCAN**\n"
      ],
      "metadata": {
        "id": "S0XWan0tAVCh"
      }
    },
    {
      "cell_type": "code",
      "source": [
        "sns.scatterplot(data=df, x=\"trip_distance\", y=\"fare_amount\", hue=df[\"dbscan_label\"])\n",
        "plt.title(\"DBSCAN: Clústeres y Outliers\")\n",
        "plt.show()\n"
      ],
      "metadata": {
        "id": "ohUPX_XJAdAm"
      },
      "execution_count": null,
      "outputs": []
    },
    {
      "cell_type": "markdown",
      "source": [
        "### **8.2 LOF**"
      ],
      "metadata": {
        "id": "XFTELAHSA3DO"
      }
    },
    {
      "cell_type": "code",
      "source": [
        "sns.scatterplot(data=df, x=\"trip_distance\", y=\"fare_amount\", hue=df[\"lof_outlier\"])\n",
        "plt.title(\"LOF: Outliers detectados\")\n",
        "plt.show()\n"
      ],
      "metadata": {
        "id": "nJ_YRojbA8R8"
      },
      "execution_count": null,
      "outputs": []
    },
    {
      "cell_type": "markdown",
      "source": [
        "### **8.3 Isolation Forest**"
      ],
      "metadata": {
        "id": "jEJTLeGPBGyb"
      }
    },
    {
      "cell_type": "code",
      "source": [
        "sns.scatterplot(data=df, x=\"trip_distance\", y=\"fare_amount\", hue=df[\"if_outlier\"])\n",
        "plt.title(\"Isolation Forest: Outliers detectados\")\n",
        "plt.show()\n"
      ],
      "metadata": {
        "id": "xgzgWPzsBKNT"
      },
      "execution_count": null,
      "outputs": []
    },
    {
      "cell_type": "markdown",
      "source": [
        "## **9. Comparación y análisis cruzado**"
      ],
      "metadata": {
        "id": "hJUPv553BTel"
      }
    },
    {
      "cell_type": "markdown",
      "source": [
        "### **9.1 Conteo general**"
      ],
      "metadata": {
        "id": "Mz7XKnFzBVLJ"
      }
    },
    {
      "cell_type": "code",
      "source": [
        "outlier_cols = ['fare_amount_outlier_z', 'iqr_outlier_fare', 'dbscan_outlier', 'lof_outlier', 'if_outlier']\n",
        "df[outlier_cols].sum()\n"
      ],
      "metadata": {
        "id": "xs-r-PpCBaC_"
      },
      "execution_count": null,
      "outputs": []
    },
    {
      "cell_type": "markdown",
      "source": [
        "### **9.2 Coincidencias entre métodos**"
      ],
      "metadata": {
        "id": "E7Es94fOBdoh"
      }
    },
    {
      "cell_type": "code",
      "source": [
        "df[\"lof_if\"] = df[\"lof_outlier\"] & df[\"if_outlier\"]\n",
        "df[\"z_iqr\"] = df[\"fare_amount_outlier_z\"] & df[\"iqr_outlier_fare\"]\n",
        "\n",
        "print(\"LOF & IF:\", df[\"lof_if\"].sum())\n",
        "print(\"Z-score & IQR:\", df[\"z_iqr\"].sum())\n"
      ],
      "metadata": {
        "id": "TJ-kVCw6BhMC"
      },
      "execution_count": null,
      "outputs": []
    },
    {
      "cell_type": "markdown",
      "source": [
        "### **9.3 Outliers detectados por múltiples métodos**"
      ],
      "metadata": {
        "id": "YloF3gRzBkSt"
      }
    },
    {
      "cell_type": "code",
      "source": [
        "df[\"outlier_count\"] = df[outlier_cols].sum(axis=1)\n",
        "outliers_multi = df[df[\"outlier_count\"] >= 3]\n",
        "print(\"Outliers detectados por 3+ técnicas:\", len(outliers_multi))\n"
      ],
      "metadata": {
        "id": "eiJ6q7_0Boe0"
      },
      "execution_count": null,
      "outputs": []
    },
    {
      "cell_type": "code",
      "source": [
        "outliers_multi.head()"
      ],
      "metadata": {
        "id": "vhypPJmAB26A"
      },
      "execution_count": null,
      "outputs": []
    },
    {
      "cell_type": "markdown",
      "source": [
        "## **10. Conclusión**\n",
        "\n",
        "Las técnicas univariadas como Z-score e IQR son simples pero limitadas en escenarios multivariados o distribuciones sesgadas. En cambio, técnicas como DBSCAN, LOF e Isolation Forest permiten detectar patrones más complejos, aunque requieren más configuración y análisis visual.\n",
        "\n",
        "La detección de outliers no debe usarse de forma ciega. Debe combinarse con conocimiento del dominio, validación visual, y análisis de impacto en modelos posteriores. Una observación extrema no siempre es un error: puede ser una oportunidad."
      ],
      "metadata": {
        "id": "5T-l0nWHCE2T"
      }
    },
    {
      "cell_type": "markdown",
      "source": [
        "---"
      ],
      "metadata": {
        "id": "7acIa4Z0JvaN"
      }
    },
    {
      "cell_type": "markdown",
      "source": [
        "## **Trabajo**\n",
        "\n",
        "**Visualización comparativa de técnicas univariadas:**\n",
        "\n",
        "Programa una función que grafique lado a lado los boxplots de fare_amount con y sin outliers (según IQR). ¿Cómo cambia la forma de la distribución al remover los outliers? ¿Cuántos valores fueron eliminados?\n",
        "\n",
        "**Exploración de inconsistencias multivariadas:**\n",
        "\n",
        "Escribe código para detectar viajes en los que la duración sea muy corta pero la tarifa total muy alta. Usa reglas lógicas personalizadas o una técnica no supervisada como Isolation Forest. ¿Cuántos casos detectas? ¿Qué podría explicarlos?\n",
        "\n",
        "**Matriz de coincidencias entre técnicas de outliers:**\n",
        "\n",
        "Crea una matriz de correlación binaria entre los métodos Z-score, IQR, DBSCAN, LOF e Isolation Forest (por columnas booleanas de outliers). ¿Qué técnicas coinciden más? Visualízalo con un heatmap.\n",
        "\n",
        "**Función generalizada para aplicar DBSCAN:**\n",
        "\n",
        "Implementa una función parametrizable aplicar_dbscan(df, variables, eps, min_samples) que permita probar distintas configuraciones de eps y min_samples sobre subconjuntos de variables. Evalúa cómo cambia la cantidad de outliers detectados.\n",
        "\n",
        "**Perfil detallado de un outlier extremo:**\n",
        "\n",
        "Elige una observación detectada como outlier por al menos 3 técnicas. Programa una función que grafique su posición relativa en cada una de las variables analizadas (fare_amount, trip_distance, tip_amount, etc.) comparada con el resto de los datos."
      ],
      "metadata": {
        "id": "ivBFI9UGC_xO"
      }
    },
    {
      "cell_type": "markdown",
      "source": [
        "---\n",
        "\n",
        "# Gracias por completar este laboratorio!\n",
        "\n",
        "---\n"
      ],
      "metadata": {
        "id": "aU5LM20sCLHc"
      }
    }
  ]
}