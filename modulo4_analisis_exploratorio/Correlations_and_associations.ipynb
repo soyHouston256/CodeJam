{
  "nbformat": 4,
  "nbformat_minor": 0,
  "metadata": {
    "colab": {
      "provenance": [],
      "include_colab_link": true
    },
    "kernelspec": {
      "name": "python3",
      "display_name": "Python 3"
    },
    "language_info": {
      "name": "python"
    }
  },
  "cells": [
    {
      "cell_type": "markdown",
      "metadata": {
        "id": "view-in-github",
        "colab_type": "text"
      },
      "source": [
        "<a href=\"https://colab.research.google.com/github/soyHouston256/CodeJam/blob/master/modulo4_analisis_exploratorio/Correlations_and_associations.ipynb\" target=\"_parent\"><img src=\"https://colab.research.google.com/assets/colab-badge.svg\" alt=\"Open In Colab\"/></a>"
      ]
    },
    {
      "cell_type": "markdown",
      "source": [
        "<img src=\"https://posgrado.utec.edu.pe/sites/default/files/2023-08/Testimonial-home-2.jpg\" alt=\"HTML5 Icon\" width=\"900\" height=\"250\" >"
      ],
      "metadata": {
        "id": "RJ2WzFJcafDK"
      }
    },
    {
      "cell_type": "markdown",
      "source": [
        "# **Laboratorio: Correlaciones y Asociaciones en Desempeño Estudiantil**\n",
        "\n",
        "---"
      ],
      "metadata": {
        "id": "JicU5SkFahlL"
      }
    },
    {
      "cell_type": "markdown",
      "source": [
        "## **Objetivo general**\n",
        "\n",
        "Aplicar medidas de correlación y asociación entre variables numéricas y categóricas en un dataset real de rendimiento académico, utilizando tanto herramientas estadísticas como visualización avanzada."
      ],
      "metadata": {
        "id": "JnHqrBgqameI"
      }
    },
    {
      "cell_type": "markdown",
      "source": [
        "## **1. Introducción**\n",
        "\n",
        "Este laboratorio busca explorar relaciones entre variables numéricas como math score, reading score y writing score, así como entre variables categóricas como gender, parental education, y test preparation course. Aprenderemos a elegir correctamente entre Pearson, Spearman, Kendall, Chi-cuadrado, Cramér’s V y Phi, según el tipo de variables involucradas."
      ],
      "metadata": {
        "id": "FgcfHlGWayB6"
      }
    },
    {
      "cell_type": "markdown",
      "source": [
        "## **2. Dataset**\n",
        "\n",
        "Usaremos el dataset:\n",
        "\n",
        "Students Performance in Exams\n",
        "\n",
        "Fuente: https://www.kaggle.com/datasets/spscientist/students-performance-in-exams\n",
        "\n"
      ],
      "metadata": {
        "id": "fvJKc2aWa5Hv"
      }
    },
    {
      "cell_type": "markdown",
      "source": [
        "\n",
        "Este dataset contiene registros de exámenes de estudiantes en tres materias, junto con información demográfica y socioeconómica. Las columnas son:\n",
        "\n",
        "\n",
        "- gender: sexo del estudiante\n",
        "\n",
        "- race/ethnicity: grupo étnico\n",
        "\n",
        "- parental level of education: educación del padre\n",
        "\n",
        "- lunch: tipo de almuerzo\n",
        "\n",
        "- test preparation course: curso de preparación\n",
        "\n",
        "- math score, reading score, writing score: puntajes obtenidos"
      ],
      "metadata": {
        "id": "yVeW1bnbbFP7"
      }
    },
    {
      "cell_type": "markdown",
      "source": [
        "## **3. Carga y exploración inicial**\n",
        "\n"
      ],
      "metadata": {
        "id": "NTYcJDGSbIi9"
      }
    },
    {
      "cell_type": "code",
      "execution_count": null,
      "metadata": {
        "id": "wVueh2ejad4v"
      },
      "outputs": [],
      "source": [
        "import pandas as pd\n",
        "import seaborn as sns\n",
        "import matplotlib.pyplot as plt\n",
        "from scipy.stats import pearsonr, spearmanr, kendalltau, chi2_contingency\n",
        "import numpy as np\n",
        "\n",
        "df = pd.read_csv(\"/kaggle/input/students-performance-in-exams/StudentsPerformance.csv\")\n",
        "df.columns = df.columns.str.replace(\" \", \"_\")\n",
        "df.head()\n"
      ]
    },
    {
      "cell_type": "markdown",
      "source": [
        "## **4. Correlación entre variables numéricas**\n"
      ],
      "metadata": {
        "id": "nrv3rMykbPQn"
      }
    },
    {
      "cell_type": "markdown",
      "source": [
        "Pearson mide relaciones lineales.\n",
        "\n",
        "Spearman evalúa relaciones monótonas basadas en rangos.\n",
        "\n",
        "Kendall mide la concordancia de pares (orden total)."
      ],
      "metadata": {
        "id": "SjnexazBbvxZ"
      }
    },
    {
      "cell_type": "markdown",
      "source": [
        "**Correlaciones**"
      ],
      "metadata": {
        "id": "3kDid7Dxbb07"
      }
    },
    {
      "cell_type": "code",
      "source": [
        "num_cols = ['math_score', 'reading_score', 'writing_score']\n",
        "corr_methods = ['pearson', 'spearman', 'kendall']\n",
        "\n",
        "for method in corr_methods:\n",
        "    print(f\"\\nMatriz de correlación - {method.title()}:\")\n",
        "    display(df[num_cols].corr(method=method).round(3))\n"
      ],
      "metadata": {
        "id": "uCCxdbJYbSSe"
      },
      "execution_count": null,
      "outputs": []
    },
    {
      "cell_type": "markdown",
      "source": [
        "**Visualización**"
      ],
      "metadata": {
        "id": "1Nt-UHlmbd1i"
      }
    },
    {
      "cell_type": "code",
      "source": [
        "sns.pairplot(df[num_cols])\n",
        "plt.suptitle(\"Distribución y correlaciones entre puntajes\", y=1.02)\n",
        "plt.show()\n"
      ],
      "metadata": {
        "id": "_PKBwakVbhke"
      },
      "execution_count": null,
      "outputs": []
    },
    {
      "cell_type": "markdown",
      "source": [
        "## **5. Asociación entre variables categóricas**\n"
      ],
      "metadata": {
        "id": "kibCTcEnbp2h"
      }
    },
    {
      "cell_type": "markdown",
      "source": [
        "Usamos Chi-cuadrado para evaluar independencia entre categorías.\n",
        "\n",
        "Para la fuerza, aplicamos Cramér’s V.\n",
        "\n",
        "Si es 2x2, podemos usar Phi."
      ],
      "metadata": {
        "id": "OsPQ1hUHbtO5"
      }
    },
    {
      "cell_type": "markdown",
      "source": [
        "**Implementación de Cramér’s V y Phi**"
      ],
      "metadata": {
        "id": "Op508v7pb5L2"
      }
    },
    {
      "cell_type": "code",
      "source": [
        "from scipy.stats import chi2_contingency\n",
        "\n",
        "def cramers_v(conf_matrix):\n",
        "    chi2 = chi2_contingency(conf_matrix)[0]\n",
        "    n = conf_matrix.sum().sum()\n",
        "    r, k = conf_matrix.shape\n",
        "    return np.sqrt(chi2 / (n * (min(k-1, r-1))))\n",
        "\n",
        "def phi(conf_matrix):\n",
        "    chi2 = chi2_contingency(conf_matrix)[0]\n",
        "    n = conf_matrix.sum().sum()\n",
        "    return np.sqrt(chi2 / n)\n"
      ],
      "metadata": {
        "id": "EXb9JBg7b7It"
      },
      "execution_count": null,
      "outputs": []
    },
    {
      "cell_type": "code",
      "source": [
        "# Chi-cuadrado + Cramér’s V entre género y curso de preparación\n",
        "ct = pd.crosstab(df.gender, df.test_preparation_course)\n",
        "chi2, p, dof, exp = chi2_contingency(ct)\n",
        "\n",
        "print(f\"Chi² = {chi2:.2f}, p = {p:.4f}\")\n",
        "print(f\"Cramér’s V = {cramers_v(ct):.3f}\")\n"
      ],
      "metadata": {
        "id": "tI40WklXb9Qv"
      },
      "execution_count": null,
      "outputs": []
    },
    {
      "cell_type": "markdown",
      "source": [
        "## **6. Comparaciones mixtas (categórica vs. numérica)**\n"
      ],
      "metadata": {
        "id": "EpndZ76TcAlG"
      }
    },
    {
      "cell_type": "markdown",
      "source": [
        "**Visualización de diferencias**"
      ],
      "metadata": {
        "id": "B5V-1K3tcEle"
      }
    },
    {
      "cell_type": "code",
      "source": [
        "sns.boxplot(data=df, x='gender', y='math_score')\n",
        "plt.title(\"Math score por género\")\n",
        "plt.show()\n"
      ],
      "metadata": {
        "id": "rVwhpUApcHxL"
      },
      "execution_count": null,
      "outputs": []
    },
    {
      "cell_type": "markdown",
      "source": [
        "**ANOVA (opcional)**"
      ],
      "metadata": {
        "id": "2mQhRF57cG1v"
      }
    },
    {
      "cell_type": "code",
      "source": [
        "from scipy.stats import f_oneway\n",
        "\n",
        "grupo_h = df[df.gender == 'male']['math_score']\n",
        "grupo_m = df[df.gender == 'female']['math_score']\n",
        "\n",
        "f_stat, p = f_oneway(grupo_h, grupo_m)\n",
        "print(f\"ANOVA: F = {f_stat:.2f}, p = {p:.4f}\")\n"
      ],
      "metadata": {
        "id": "NKhbiMiAcL06"
      },
      "execution_count": null,
      "outputs": []
    },
    {
      "cell_type": "markdown",
      "source": [
        "# **7. Visualización integrada**\n"
      ],
      "metadata": {
        "id": "EN2MV4a5cTKz"
      }
    },
    {
      "cell_type": "markdown",
      "source": [
        "**Heatmap de correlación numérica**"
      ],
      "metadata": {
        "id": "MHVr2hZ4cXDg"
      }
    },
    {
      "cell_type": "code",
      "source": [
        "sns.heatmap(df[num_cols].corr(), annot=True, cmap=\"coolwarm\")\n",
        "plt.title(\"Matriz de correlación numérica\")\n",
        "plt.show()\n"
      ],
      "metadata": {
        "id": "EaugwETDckfy"
      },
      "execution_count": null,
      "outputs": []
    },
    {
      "cell_type": "markdown",
      "source": [
        "**Heatmap de Cramér’s V entre categóricas**"
      ],
      "metadata": {
        "id": "hgvDy1lTdIg-"
      }
    },
    {
      "cell_type": "code",
      "source": [
        "cat_cols = ['gender', 'race/ethnicity', 'parental_level_of_education', 'lunch', 'test_preparation_course']\n",
        "mat = pd.DataFrame(index=cat_cols, columns=cat_cols)\n",
        "\n",
        "for i in cat_cols:\n",
        "    for j in cat_cols:\n",
        "        mat.loc[i,j] = cramers_v(pd.crosstab(df[i], df[j]))\n",
        "\n",
        "sns.heatmap(mat.astype(float), annot=True, cmap='YlGnBu')\n",
        "plt.title(\"Cramér’s V entre variables categóricas\")\n",
        "plt.show()\n"
      ],
      "metadata": {
        "id": "InCtvUkkdKsH"
      },
      "execution_count": null,
      "outputs": []
    },
    {
      "cell_type": "markdown",
      "source": [
        "## **8. Actividades finales**\n"
      ],
      "metadata": {
        "id": "0TGGExvedNPM"
      }
    },
    {
      "cell_type": "markdown",
      "source": [
        "**8.1 Comparación entre métodos de correlación**\n",
        "\n",
        "- ¿Cuál da valores más altos entre Spearman y Kendall?\n",
        "\n",
        "- ¿Qué pares de puntajes están más correlacionados?\n"
      ],
      "metadata": {
        "id": "h6lK3mw4dalP"
      }
    },
    {
      "cell_type": "code",
      "source": [],
      "metadata": {
        "id": "bDC9JKbmdm17"
      },
      "execution_count": null,
      "outputs": []
    },
    {
      "cell_type": "markdown",
      "source": [
        "\n",
        "**8.2 Asociación significativa**\n",
        "\n",
        "- ¿Qué variables categóricas muestran relaciones más fuertes según Cramér’s V?\n",
        "\n"
      ],
      "metadata": {
        "id": "ugbCD960dcVA"
      }
    },
    {
      "cell_type": "code",
      "source": [],
      "metadata": {
        "id": "M9t10SvCdnJy"
      },
      "execution_count": null,
      "outputs": []
    },
    {
      "cell_type": "markdown",
      "source": [
        "**8.3 Construcción de hipótesis**\n",
        "\n",
        "Elige una variable categórica (e.g. lunch) y plantea una hipótesis con respecto a su impacto en los puntajes. Contrástala con boxplots."
      ],
      "metadata": {
        "id": "vqjL2ptVddXz"
      }
    },
    {
      "cell_type": "code",
      "source": [],
      "metadata": {
        "id": "VBUz9M7cdnat"
      },
      "execution_count": null,
      "outputs": []
    },
    {
      "cell_type": "markdown",
      "source": [
        "## **9. Conclusión**"
      ],
      "metadata": {
        "id": "H5CgBhKpdpbJ"
      }
    },
    {
      "cell_type": "markdown",
      "source": [
        "Este laboratorio integró herramientas estadísticas y visuales para analizar relaciones entre variables. Las técnicas no paramétricas como Spearman, Kendall o Cramér’s V resultan útiles cuando los supuestos clásicos no se cumplen. Saber elegir la métrica correcta es clave para extraer insights confiables en el proceso de data discovery."
      ],
      "metadata": {
        "id": "S2l-LO5xdsLT"
      }
    },
    {
      "cell_type": "markdown",
      "source": [
        "---\n",
        "\n",
        "# Gracias por completar este laboratorio!\n",
        "\n",
        "---\n"
      ],
      "metadata": {
        "id": "zPsSoScLdzGk"
      }
    }
  ]
}