{
  "nbformat": 4,
  "nbformat_minor": 0,
  "metadata": {
    "colab": {
      "provenance": [],
      "include_colab_link": true
    },
    "kernelspec": {
      "name": "python3",
      "display_name": "Python 3"
    },
    "language_info": {
      "name": "python"
    }
  },
  "cells": [
    {
      "cell_type": "markdown",
      "metadata": {
        "id": "view-in-github",
        "colab_type": "text"
      },
      "source": [
        "<a href=\"https://colab.research.google.com/github/soyHouston256/CodeJam/blob/master/modulo4_analisis_exploratorio/Advanced_Data_Cleaning_and_Feature_Transformation.ipynb\" target=\"_parent\"><img src=\"https://colab.research.google.com/assets/colab-badge.svg\" alt=\"Open In Colab\"/></a>"
      ]
    },
    {
      "cell_type": "markdown",
      "source": [
        "<img src=\"https://posgrado.utec.edu.pe/sites/default/files/2023-08/Testimonial-home-2.jpg\" alt=\"HTML5 Icon\" width=\"900\" height=\"250\" >"
      ],
      "metadata": {
        "id": "LbnZWXxeBKu0"
      }
    },
    {
      "cell_type": "markdown",
      "source": [
        "# **Laboratorio: Advanced Data Cleaning and Feature Transformation with House Prices Dataset**\n",
        "\n",
        "---"
      ],
      "metadata": {
        "id": "fCP_Eiq5Bb9f"
      }
    },
    {
      "cell_type": "markdown",
      "source": [
        "## **Objetivo general**\n",
        "\n",
        "Aplicar técnicas avanzadas de limpieza de datos, codificación de variables categóricas, discretización y transformaciones numéricas (incluyendo polinómicas) sobre un dataset real para preparar la información antes del modelado."
      ],
      "metadata": {
        "id": "V8sWvefAB8oc"
      }
    },
    {
      "cell_type": "markdown",
      "source": [
        "\n",
        "## **1. Introducción teórica**\n",
        "\n",
        "En cualquier proyecto de ciencia de datos, **la etapa de preprocesamiento puede ocupar hasta el 80% del tiempo total.** Esto se debe a que los datos rara vez vienen listos para usarse: suelen tener errores, valores faltantes, formatos inconsistentes y escalas incompatibles.\n",
        "\n",
        "\n",
        "La limpieza avanzada no se limita a eliminar nulos o duplicados, sino que abarca tareas más profundas como:\n",
        "\n",
        "\n",
        "- Detectar inconsistencias semánticas (mismo valor escrito de forma distinta).\n",
        "\n",
        "- Estandarizar formatos (fechas, unidades de medida, codificación de texto).\n",
        "\n",
        "- Identificar y tratar outliers que afectan análisis y modelos.\n",
        "\n",
        "- Aplicar transformaciones matemáticas para mejorar la distribución de las variables y la capacidad predictiva de los modelos."
      ],
      "metadata": {
        "id": "IGyeRdpKCCAC"
      }
    },
    {
      "cell_type": "markdown",
      "source": [
        "## **2. Carga y exploración inicial del dataset**\n",
        "\n",
        "Usaremos el dataset House Prices – Advanced Regression Techniques de Kaggle."
      ],
      "metadata": {
        "id": "s6JI-cknCsLM"
      }
    },
    {
      "cell_type": "code",
      "source": [
        "import pandas as pd\n",
        "\n",
        "# Cargar datos\n",
        "df = pd.read_csv('train.csv')\n",
        "\n",
        "# Dimensiones y primeras filas\n",
        "print(df.shape)\n",
        "df.head()\n",
        "\n",
        "# Información general\n",
        "df.info()\n",
        "\n",
        "# Resumen estadístico\n",
        "df.describe()\n"
      ],
      "metadata": {
        "id": "CqkwuEg1Cwnq"
      },
      "execution_count": null,
      "outputs": []
    },
    {
      "cell_type": "markdown",
      "source": [
        "## **3. Limpieza avanzada de datos**\n",
        "\n"
      ],
      "metadata": {
        "id": "TTgKz4WNC0Kv"
      }
    },
    {
      "cell_type": "markdown",
      "source": [
        "**3.1 Detección de valores faltantes**"
      ],
      "metadata": {
        "id": "ZEFBQiXQDHNc"
      }
    },
    {
      "cell_type": "code",
      "execution_count": null,
      "metadata": {
        "id": "HtNLxtssAvey"
      },
      "outputs": [],
      "source": [
        "missing = df.isnull().sum()\n",
        "missing[missing > 0].sort_values(ascending=False)\n"
      ]
    },
    {
      "cell_type": "markdown",
      "source": [
        "Aquí detectamos columnas con valores faltantes. Algunos datasets codifican los nulos como “NA” o “0” en lugar de NaN, por lo que también conviene revisar valores únicos por columna."
      ],
      "metadata": {
        "id": "JxTNcqo_C9iI"
      }
    },
    {
      "cell_type": "markdown",
      "source": [
        "**3.2 Imputación de valores**\n"
      ],
      "metadata": {
        "id": "66n7h24zDKe4"
      }
    },
    {
      "cell_type": "markdown",
      "source": [
        "\n",
        "Numéricos – usando la mediana para evitar el efecto de outliers:"
      ],
      "metadata": {
        "id": "nIprea6NDBHL"
      }
    },
    {
      "cell_type": "code",
      "source": [
        "from sklearn.impute import SimpleImputer\n",
        "\n",
        "num_imputer = SimpleImputer(strategy='median')\n",
        "df['LotFrontage'] = num_imputer.fit_transform(df[['LotFrontage']])\n"
      ],
      "metadata": {
        "id": "pbVBUu1tCvCQ"
      },
      "execution_count": null,
      "outputs": []
    },
    {
      "cell_type": "markdown",
      "source": [
        "Categóricos – usando la moda o creando una categoría “Missing”:"
      ],
      "metadata": {
        "id": "-rJdZsnVDOL7"
      }
    },
    {
      "cell_type": "code",
      "source": [
        "cat_imputer = SimpleImputer(strategy='most_frequent')\n",
        "df['MasVnrType'] = cat_imputer.fit_transform(df[['MasVnrType']])\n"
      ],
      "metadata": {
        "id": "hYQLmvH0CnIF"
      },
      "execution_count": null,
      "outputs": []
    },
    {
      "cell_type": "markdown",
      "source": [
        "> Usar media puede distorsionar si hay valores extremos.\n",
        ">\n",
        "> Usar mediana es más robusto frente a outliers.\n",
        ">\n",
        "> Para categóricos, asignar “Missing” puede conservar la información de que el valor no estaba registrado."
      ],
      "metadata": {
        "id": "i0TkrgnDDWr5"
      }
    },
    {
      "cell_type": "markdown",
      "source": [
        "**3.3 Corrección de inconsistencias de formato**"
      ],
      "metadata": {
        "id": "mY_cEiuNDfcr"
      }
    },
    {
      "cell_type": "code",
      "source": [
        "df['Neighborhood'] = df['Neighborhood'].str.strip().str.title()\n"
      ],
      "metadata": {
        "id": "aPSmvVHtDUYg"
      },
      "execution_count": null,
      "outputs": []
    },
    {
      "cell_type": "markdown",
      "source": [
        "Esto asegura consistencia en mayúsculas/minúsculas y elimina espacios extra.\n",
        "\n"
      ],
      "metadata": {
        "id": "DPY9UG5oDks2"
      }
    },
    {
      "cell_type": "markdown",
      "source": [
        "**3.4 Duplicados exactos y casi-duplicados**\n"
      ],
      "metadata": {
        "id": "4W40xJkoDmj8"
      }
    },
    {
      "cell_type": "code",
      "source": [
        "df.drop_duplicates(inplace=True)\n"
      ],
      "metadata": {
        "id": "7AAgA-A4Dkcn"
      },
      "execution_count": null,
      "outputs": []
    },
    {
      "cell_type": "markdown",
      "source": [
        "**3.5 Outliers**"
      ],
      "metadata": {
        "id": "xAL1dqFiEO0B"
      }
    },
    {
      "cell_type": "markdown",
      "source": [
        "Usaremos el rango intercuartílico (IQR):"
      ],
      "metadata": {
        "id": "uHaN-8amERsN"
      }
    },
    {
      "cell_type": "code",
      "source": [
        "Q1 = df['SalePrice'].quantile(0.25)\n",
        "Q3 = df['SalePrice'].quantile(0.75)\n",
        "IQR = Q3 - Q1\n",
        "\n",
        "outliers = df[(df['SalePrice'] < Q1 - 1.5*IQR) | (df['SalePrice'] > Q3 + 1.5*IQR)]\n",
        "outliers.shape\n"
      ],
      "metadata": {
        "id": "W2wwDlVvEVj4"
      },
      "execution_count": null,
      "outputs": []
    },
    {
      "cell_type": "markdown",
      "source": [
        "Outliers detectados no siempre deben eliminarse: en precios de casas, un valor alto puede ser legítimo."
      ],
      "metadata": {
        "id": "kfHi2WNVEYFC"
      }
    },
    {
      "cell_type": "markdown",
      "source": [
        "## **4. Codificación de variables categóricas**"
      ],
      "metadata": {
        "id": "IGN_visEEaf-"
      }
    },
    {
      "cell_type": "markdown",
      "source": [
        "**4.1 One-Hot Encoding**"
      ],
      "metadata": {
        "id": "v_GifVYaEeuo"
      }
    },
    {
      "cell_type": "markdown",
      "source": [
        "Convierte categorías en columnas binarias."
      ],
      "metadata": {
        "id": "CKd5XhjsEiT2"
      }
    },
    {
      "cell_type": "code",
      "source": [
        "df = pd.get_dummies(df, columns=['Neighborhood'], drop_first=True)\n"
      ],
      "metadata": {
        "id": "Sfuj70K8EXy1"
      },
      "execution_count": null,
      "outputs": []
    },
    {
      "cell_type": "markdown",
      "source": [
        "**4.2 Label Encoding**"
      ],
      "metadata": {
        "id": "uY7pEbOuEmP5"
      }
    },
    {
      "cell_type": "markdown",
      "source": [
        "Asigna un número entero a cada categoría (útil para variables ordinales)."
      ],
      "metadata": {
        "id": "K-gJoSiDEqJ-"
      }
    },
    {
      "cell_type": "code",
      "source": [
        "from sklearn.preprocessing import LabelEncoder\n",
        "\n",
        "le = LabelEncoder()\n",
        "df['Street'] = le.fit_transform(df['Street'])\n"
      ],
      "metadata": {
        "id": "RejiPc_pEtje"
      },
      "execution_count": null,
      "outputs": []
    },
    {
      "cell_type": "markdown",
      "source": [
        "**4.3 Target Encoding (avanzado, riesgo de data leakage)**"
      ],
      "metadata": {
        "id": "Rhd3IKs_Evk8"
      }
    },
    {
      "cell_type": "code",
      "source": [
        "import category_encoders as ce\n",
        "\n",
        "te = ce.TargetEncoder(cols=['MSZoning'])\n",
        "df['MSZoning'] = te.fit_transform(df['MSZoning'], df['SalePrice'])\n"
      ],
      "metadata": {
        "id": "7hdJHoaKFCZf"
      },
      "execution_count": null,
      "outputs": []
    },
    {
      "cell_type": "markdown",
      "source": [
        "## **5. Discretización de variables continuas**"
      ],
      "metadata": {
        "id": "X0ab3bcnFAvD"
      }
    },
    {
      "cell_type": "markdown",
      "source": [
        "Reduce una variable continua a intervalos o “bins”."
      ],
      "metadata": {
        "id": "ewKvr5H6FNm4"
      }
    },
    {
      "cell_type": "code",
      "source": [
        "from sklearn.preprocessing import KBinsDiscretizer\n",
        "\n",
        "kb = KBinsDiscretizer(n_bins=4, encode='ordinal', strategy='quantile')\n",
        "df['SalePrice_bin'] = kb.fit_transform(df[['SalePrice']])\n"
      ],
      "metadata": {
        "id": "shmTS8BYFPrB"
      },
      "execution_count": null,
      "outputs": []
    },
    {
      "cell_type": "markdown",
      "source": [
        "Útil cuando queremos reducir la sensibilidad del modelo a variaciones pequeñas o cuando la variable tiene relación no lineal con la respuesta."
      ],
      "metadata": {
        "id": "tshixIFrFR0U"
      }
    },
    {
      "cell_type": "markdown",
      "source": [
        "## **6. Transformaciones numéricas avanzadas**\n"
      ],
      "metadata": {
        "id": "vYwqUX1MFX-W"
      }
    },
    {
      "cell_type": "markdown",
      "source": [
        "**6.1 Transformación logarítmica**\n"
      ],
      "metadata": {
        "id": "GJJz4adNFevl"
      }
    },
    {
      "cell_type": "markdown",
      "source": [
        "Reduce asimetría en variables sesgadas a la derecha."
      ],
      "metadata": {
        "id": "woGSnf5HFhCk"
      }
    },
    {
      "cell_type": "code",
      "source": [
        "import numpy as np\n",
        "df['SalePrice_log'] = np.log1p(df['SalePrice'])\n"
      ],
      "metadata": {
        "id": "VSRezZDPFT4T"
      },
      "execution_count": null,
      "outputs": []
    },
    {
      "cell_type": "markdown",
      "source": [
        "**6.2 Min–Max Scaling**"
      ],
      "metadata": {
        "id": "IaOe8H9BFlGV"
      }
    },
    {
      "cell_type": "markdown",
      "source": [
        "Escala los valores a un rango fijo [0, 1]."
      ],
      "metadata": {
        "id": "hDibuBr-FoH2"
      }
    },
    {
      "cell_type": "code",
      "source": [
        "from sklearn.preprocessing import MinMaxScaler\n",
        "\n",
        "mm_scaler = MinMaxScaler()\n",
        "df[['LotArea_mm', 'GrLivArea_mm']] = mm_scaler.fit_transform(df[['LotArea', 'GrLivArea']])\n"
      ],
      "metadata": {
        "id": "nmzuSlhtFqJ6"
      },
      "execution_count": null,
      "outputs": []
    },
    {
      "cell_type": "markdown",
      "source": [
        "**6.3 Z-score Standardization**"
      ],
      "metadata": {
        "id": "5Q5H-DXqFsWW"
      }
    },
    {
      "cell_type": "markdown",
      "source": [
        "Centra en media 0 y desv. estándar 1."
      ],
      "metadata": {
        "id": "9KvUsWuyF35x"
      }
    },
    {
      "cell_type": "code",
      "source": [
        "from sklearn.preprocessing import StandardScaler\n",
        "\n",
        "scaler = StandardScaler()\n",
        "df[['LotArea_z', 'GrLivArea_z']] = scaler.fit_transform(df[['LotArea', 'GrLivArea']])\n"
      ],
      "metadata": {
        "id": "MRPwT2naF6MY"
      },
      "execution_count": null,
      "outputs": []
    },
    {
      "cell_type": "markdown",
      "source": [
        "**6.4 Transformaciones polinómicas**"
      ],
      "metadata": {
        "id": "jKK36L3iF_OS"
      }
    },
    {
      "cell_type": "markdown",
      "source": [
        "Genera nuevas variables como combinaciones polinómicas de las existentes."
      ],
      "metadata": {
        "id": "z0mIWmOWGCA0"
      }
    },
    {
      "cell_type": "code",
      "source": [
        "from sklearn.preprocessing import PolynomialFeatures\n",
        "\n",
        "poly = PolynomialFeatures(degree=2, include_bias=False)\n",
        "poly_features = poly.fit_transform(df[['GrLivArea', 'LotArea']])\n",
        "poly_df = pd.DataFrame(poly_features, columns=poly.get_feature_names_out(['GrLivArea', 'LotArea']))\n",
        "\n",
        "df = pd.concat([df, poly_df], axis=1)\n"
      ],
      "metadata": {
        "id": "SfLO7bNfGETN"
      },
      "execution_count": null,
      "outputs": []
    },
    {
      "cell_type": "markdown",
      "source": [
        "Útil para modelos lineales que no capturan interacciones o curvaturas de forma natural. Ojo: puede aumentar mucho la dimensionalidad."
      ],
      "metadata": {
        "id": "Ug8NmBR7GIhR"
      }
    },
    {
      "cell_type": "markdown",
      "source": [
        "## **7. Evaluación visual del impacto**\n"
      ],
      "metadata": {
        "id": "Do3Bbc7OGMCz"
      }
    },
    {
      "cell_type": "code",
      "source": [
        "import matplotlib.pyplot as plt\n",
        "import seaborn as sns\n",
        "\n",
        "fig, axes = plt.subplots(1, 2, figsize=(12,5))\n",
        "sns.histplot(df['SalePrice'], ax=axes[0], kde=True)\n",
        "axes[0].set_title(\"SalePrice Original\")\n",
        "sns.histplot(df['SalePrice_log'], ax=axes[1], kde=True)\n",
        "axes[1].set_title(\"SalePrice Log-Transformed\")\n",
        "plt.show()\n"
      ],
      "metadata": {
        "id": "lnQOCzgdGRXV"
      },
      "execution_count": null,
      "outputs": []
    },
    {
      "cell_type": "markdown",
      "source": [
        "## **Tarea**"
      ],
      "metadata": {
        "id": "WG27vB60GTUw"
      }
    },
    {
      "cell_type": "markdown",
      "source": [
        "- Identificar y corregir inconsistencias en otra columna categórica.\n",
        "\n",
        "- Imputar una variable numérica usando media, mediana y KNN, y comparar resultados.\n",
        "\n",
        "- Comparar One-Hot Encoding vs. Target Encoding en términos de número de columnas y posible overfitting.\n",
        "\n",
        "- Discretizar LotArea usando equal-width binning.\n",
        "\n",
        "- Generar transformaciones polinómicas de grado 3 para tres variables numéricas y evaluar cuántas columnas nuevas produce."
      ],
      "metadata": {
        "id": "eaZrVgTVGXFl"
      }
    },
    {
      "cell_type": "code",
      "source": [],
      "metadata": {
        "id": "MVnIJqopGh0N"
      },
      "execution_count": null,
      "outputs": []
    },
    {
      "cell_type": "markdown",
      "source": [
        "---\n",
        "\n",
        "# Gracias por completar este laboratorio!\n",
        "\n",
        "---\n"
      ],
      "metadata": {
        "id": "j0mT0c3WGPHM"
      }
    }
  ]
}